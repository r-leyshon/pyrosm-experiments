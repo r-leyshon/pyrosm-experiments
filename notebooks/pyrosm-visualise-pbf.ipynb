{
 "cells": [
  {
   "cell_type": "code",
   "execution_count": null,
   "metadata": {},
   "outputs": [],
   "source": [
    "import os\n",
    "\n",
    "import matplotlib.pyplot as plt\n",
    "import pyrosm\n",
    "from pyprojroot import here"
   ]
  },
  {
   "cell_type": "code",
   "execution_count": null,
   "metadata": {},
   "outputs": [],
   "source": [
    "fp = os.path.join(here(), \"data\", \"external\", \"cropped_north_line.osm.pbf\")"
   ]
  },
  {
   "cell_type": "code",
   "execution_count": null,
   "metadata": {},
   "outputs": [],
   "source": [
    "osm = pyrosm.OSM(fp)\n",
    "type(osm)"
   ]
  },
  {
   "cell_type": "code",
   "execution_count": null,
   "metadata": {},
   "outputs": [],
   "source": [
    "net = osm.get_network()\n",
    "net.plot()"
   ]
  },
  {
   "cell_type": "code",
   "execution_count": null,
   "metadata": {},
   "outputs": [],
   "source": [
    "# Download a dataset for Northumberland (update if exists in the temp already)\n",
    "# fp = pyrosm.get_data(\"Northumberland\", update=True)"
   ]
  },
  {
   "cell_type": "code",
   "execution_count": null,
   "metadata": {},
   "outputs": [],
   "source": [
    "# Read buildings (takes ~30 seconds)\n",
    "buildings = osm.get_buildings()\n",
    "buildings.head(2)"
   ]
  },
  {
   "cell_type": "code",
   "execution_count": null,
   "metadata": {},
   "outputs": [],
   "source": [
    "# Plot the buildings (will take awhile to plot)\n",
    "buildings.plot()"
   ]
  },
  {
   "cell_type": "code",
   "execution_count": null,
   "metadata": {},
   "outputs": [],
   "source": [
    "# Get Blyth as our bounding box\n",
    "bounding_box = osm.get_boundaries(name=\"Blyth\")\n",
    "bounding_box.plot()"
   ]
  },
  {
   "cell_type": "code",
   "execution_count": null,
   "metadata": {},
   "outputs": [],
   "source": [
    "# Get the shapely geometry from GeoDataFrame\n",
    "bbox_geom = bounding_box[\"geometry\"].values[0]\n",
    "\n",
    "# Initiliaze with bounding box\n",
    "osm = pyrosm.OSM(fp, bounding_box=bbox_geom)"
   ]
  },
  {
   "cell_type": "code",
   "execution_count": null,
   "metadata": {},
   "outputs": [],
   "source": [
    "# Bounding box is now stored as an attribute\n",
    "osm.bounding_box"
   ]
  },
  {
   "cell_type": "code",
   "execution_count": null,
   "metadata": {},
   "outputs": [],
   "source": [
    "# Retrieve buildings for Blyth\n",
    "blyth_buildings = osm.get_buildings()"
   ]
  },
  {
   "cell_type": "code",
   "execution_count": null,
   "metadata": {},
   "outputs": [],
   "source": [
    "# Let's plot the buildings and specify colors according the type of the building\n",
    "ax = blyth_buildings.plot(\n",
    "    column=\"building\",\n",
    "    figsize=(16, 16),\n",
    "    legend=True,\n",
    "    legend_kwds=dict(loc=\"upper left\", ncol=1, bbox_to_anchor=(1, 1)),\n",
    ")\n",
    "# style\n",
    "ax.set_facecolor(\"black\")\n",
    "ax.set(yticklabels=[])\n",
    "ax.set(xticklabels=[])\n",
    "plt.tick_params(axis=\"both\", which=\"both\", bottom=False, left=False)\n",
    "\n",
    "# title\n",
    "title_obj = plt.title(\n",
    "    \"Building Classification in Blyth: OSM 07-07-2022.\".title(), fontsize=24\n",
    ")\n",
    "plt.setp(title_obj, color=\"white\")\n",
    "# save\n",
    "ax.figure.savefig(\n",
    "    os.path.join(here(), \"outputs\", \"buildings\", \"blyth-building-classes.png\"),\n",
    "    dpi=400,\n",
    "    format=\"png\",\n",
    "    transparent=False,\n",
    "    facecolor=ax.get_facecolor(),\n",
    "    edgecolor=\"none\",\n",
    ")"
   ]
  },
  {
   "cell_type": "code",
   "execution_count": null,
   "metadata": {},
   "outputs": [],
   "source": [
    "# Apply the same bounding box filter and retrieve walking network\n",
    "walk = osm.get_network(\"walking\")\n",
    "walk_fig = walk.plot(color=\"white\", figsize=(12, 12), lw=0.7, alpha=0.6)\n",
    "\n",
    "# style\n",
    "walk_fig.set_facecolor(\"black\")\n",
    "walk_fig.set(yticklabels=[])\n",
    "walk_fig.set(xticklabels=[])\n",
    "plt.tick_params(axis=\"both\", which=\"both\", bottom=False, left=False)\n",
    "\n",
    "title_obj = plt.title(\"Blyth Walking Network: OSM 07-07-2022\".title(), fontsize=24)\n",
    "plt.setp(title_obj, color=\"white\")\n",
    "walk_fig.figure.savefig(\n",
    "    os.path.join(here(), \"outputs\", \"networks\", \"blyth-walking-network.png\"),\n",
    "    dpi=400,\n",
    "    format=\"png\",\n",
    "    transparent=False,\n",
    "    facecolor=ax.get_facecolor(),\n",
    "    edgecolor=\"none\",\n",
    ")"
   ]
  },
  {
   "cell_type": "code",
   "execution_count": null,
   "metadata": {},
   "outputs": [],
   "source": [
    "# Apply the same bounding box filter and retrieve walking network\n",
    "all = osm.get_network(\"all\")\n",
    "all_fig = all.plot(color=\"white\", figsize=(12, 12), lw=0.7, alpha=0.6)\n",
    "\n",
    "# style\n",
    "all_fig.set_facecolor(\"black\")\n",
    "all_fig.set(yticklabels=[])\n",
    "all_fig.set(xticklabels=[])\n",
    "plt.tick_params(axis=\"both\", which=\"both\", bottom=False, left=False)\n",
    "\n",
    "title_obj = plt.title(\"Blyth All Network: OSM 07-07-2022\".title(), fontsize=24)\n",
    "plt.setp(title_obj, color=\"white\")\n",
    "all_fig.figure.savefig(\n",
    "    os.path.join(here(), \"outputs\", \"networks\", \"blyth-all-network.png\"),\n",
    "    dpi=400,\n",
    "    format=\"png\",\n",
    "    transparent=False,\n",
    "    facecolor=ax.get_facecolor(),\n",
    "    edgecolor=\"none\",\n",
    ")"
   ]
  },
  {
   "cell_type": "markdown",
   "metadata": {},
   "source": [
    "The Freight Line through Blyth is absent: It should run West of the A189 in the north of the above plot. A189 can be identified by the junctions visible."
   ]
  },
  {
   "cell_type": "code",
   "execution_count": null,
   "metadata": {},
   "outputs": [],
   "source": []
  }
 ],
 "metadata": {
  "language_info": {
   "codemirror_mode": {
    "name": "ipython",
    "version": 3
   },
   "file_extension": ".py",
   "mimetype": "text/x-python",
   "name": "python",
   "nbconvert_exporter": "python",
   "pygments_lexer": "ipython3",
   "version": "3.9.7"
  },
  "vscode": {
   "interpreter": {}
  }
 },
 "nbformat": 4,
 "nbformat_minor": 2
}
