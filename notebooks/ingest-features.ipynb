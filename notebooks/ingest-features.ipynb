{
 "cells": [
  {
   "cell_type": "code",
   "execution_count": null,
   "metadata": {},
   "outputs": [],
   "source": [
    "%load_ext autoreload\n",
    "%autoreload 2\n",
    "import os.path  # noqa: E402\n",
    "\n",
    "from pyprojroot import here  # noqa: E402\n",
    "\n",
    "from pyrosmExperiments.make_features import get_buildings  # noqa: E402"
   ]
  },
  {
   "cell_type": "code",
   "execution_count": null,
   "metadata": {},
   "outputs": [],
   "source": [
    "# read the osm data as x\n",
    "# extract the available boundaries found within the osm file as y\n",
    "x, y = get_buildings.ingest_osm(\n",
    "    os.path.join(here(), \"data\", \"external\", \"cropped_north_line.osm.pbf\")\n",
    ")"
   ]
  },
  {
   "cell_type": "code",
   "execution_count": null,
   "metadata": {},
   "outputs": [],
   "source": [
    "# recursively return buildings for bboxes that match the areas in y\n",
    "# sloooooooow\n",
    "rdf, pygeos_probs, empty_probs = get_buildings.get_features_recurse(\n",
    "    osm_obj=x,\n",
    "    osm_pth=os.path.join(here(), \"data\", \"external\", \"cropped_north_line.osm.pbf\"),\n",
    "    areanms=y,\n",
    ")\n",
    "# summary tables\n",
    "feature_summary = get_buildings.summarise_features(rdf)"
   ]
  },
  {
   "cell_type": "code",
   "execution_count": null,
   "metadata": {},
   "outputs": [],
   "source": [
    "# outputs\n",
    "pklName = \"planetOSM-NE-England-buildings.pkl\"\n",
    "rdf.to_pickle(os.path.join(here(), \"data\", \"processed\", pklName))\n",
    "feature_summary.to_csv(\n",
    "    os.path.join(\n",
    "        here(), \"data\", \"processed\", \"planetOSM-NE-England-building-summary.csv\"\n",
    "    )\n",
    ")"
   ]
  },
  {
   "cell_type": "code",
   "execution_count": null,
   "metadata": {},
   "outputs": [],
   "source": []
  }
 ],
 "metadata": {
  "language_info": {
   "codemirror_mode": {
    "name": "ipython",
    "version": 3
   },
   "file_extension": ".py",
   "mimetype": "text/x-python",
   "name": "python",
   "nbconvert_exporter": "python",
   "pygments_lexer": "ipython3",
   "version": "3.9.7"
  },
  "vscode": {
   "interpreter": {
    "hash": "4be96e27347554d8a1220b10a6df9d5b2627b5b2c359119d47e207ee9ef8288b"
   }
  }
 },
 "nbformat": 4,
 "nbformat_minor": 2
}
