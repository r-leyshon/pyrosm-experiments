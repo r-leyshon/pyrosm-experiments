{
 "cells": [
  {
   "cell_type": "code",
   "execution_count": null,
   "metadata": {},
   "outputs": [],
   "source": [
    "import re\n",
    "\n",
    "import numpy as np\n",
    "import pyrosm\n",
    "from pyrosm.data import sources"
   ]
  },
  {
   "attachments": {},
   "cell_type": "markdown",
   "metadata": {},
   "source": [
    "## Check available data"
   ]
  },
  {
   "cell_type": "code",
   "execution_count": null,
   "metadata": {},
   "outputs": [],
   "source": [
    "# Print available source categories\n",
    "sources.available.keys()"
   ]
  },
  {
   "cell_type": "code",
   "execution_count": null,
   "metadata": {},
   "outputs": [],
   "source": [
    "print(sources.cities.available)\n",
    "# pass the contents of this to a selection input"
   ]
  },
  {
   "attachments": {},
   "cell_type": "markdown",
   "metadata": {},
   "source": [
    "## Select City"
   ]
  },
  {
   "cell_type": "code",
   "execution_count": null,
   "metadata": {},
   "outputs": [],
   "source": [
    "fp = pyrosm.get_data(\"Bangkok\")  # downloads to tmp, think about that\n",
    "osm = pyrosm.OSM(fp)"
   ]
  },
  {
   "attachments": {},
   "cell_type": "markdown",
   "metadata": {},
   "source": [
    "## Select features\n",
    "\n",
    "### Road Network"
   ]
  },
  {
   "cell_type": "code",
   "execution_count": null,
   "metadata": {},
   "outputs": [],
   "source": [
    "road_net = osm.get_network(network_type=\"driving\")\n",
    "road_net.plot()\n",
    "# walking (default)\n",
    "# cycling\n",
    "# driving\n",
    "# driving+service (includes also public service vehicles)"
   ]
  },
  {
   "cell_type": "code",
   "execution_count": null,
   "metadata": {},
   "outputs": [],
   "source": [
    "sum(road_net[\"length\"])"
   ]
  },
  {
   "attachments": {},
   "cell_type": "markdown",
   "metadata": {},
   "source": [
    "## Buildings"
   ]
  },
  {
   "cell_type": "code",
   "execution_count": null,
   "metadata": {},
   "outputs": [],
   "source": [
    "buildings = osm.get_buildings()\n",
    "# crs needs to be selected for target area\n",
    "buildings = buildings.to_crs(\"27700\")"
   ]
  },
  {
   "cell_type": "code",
   "execution_count": null,
   "metadata": {},
   "outputs": [],
   "source": [
    "buildings[\"area\"] = buildings.area"
   ]
  },
  {
   "cell_type": "code",
   "execution_count": null,
   "metadata": {},
   "outputs": [],
   "source": [
    "buildings.groupby(\"building\").sum(\"area\")\n",
    "# can get area summaries by type. Maybe not that useful for buildings."
   ]
  },
  {
   "attachments": {},
   "cell_type": "markdown",
   "metadata": {},
   "source": [
    "## Landuse"
   ]
  },
  {
   "cell_type": "code",
   "execution_count": null,
   "metadata": {},
   "outputs": [],
   "source": [
    "land = osm.get_landuse()\n",
    "land = land.to_crs(\"27700\")"
   ]
  },
  {
   "cell_type": "code",
   "execution_count": null,
   "metadata": {},
   "outputs": [],
   "source": [
    "land.plot(column=\"landuse\", legend=True, figsize=(10, 6))"
   ]
  },
  {
   "cell_type": "code",
   "execution_count": null,
   "metadata": {},
   "outputs": [],
   "source": [
    "land[\"area\"] = land.area\n",
    "land.groupby(\"landuse\").sum(\"area\")"
   ]
  },
  {
   "attachments": {},
   "cell_type": "markdown",
   "metadata": {},
   "source": [
    "## Natural"
   ]
  },
  {
   "cell_type": "code",
   "execution_count": null,
   "metadata": {},
   "outputs": [],
   "source": [
    "nat = osm.get_natural()\n",
    "# this layer includes point observations, get rid\n",
    "nat = nat[np.array(nat.geom_type != \"Point\", dtype=bool)]\n",
    "nat = nat.to_crs(\"27700\")\n",
    "nat[\"area\"] = nat.area\n",
    "nat.plot(column=\"natural\", legend=True, figsize=(10, 6))"
   ]
  },
  {
   "attachments": {},
   "cell_type": "markdown",
   "metadata": {},
   "source": [
    "I notice some encoding problems here, scub versus scrub for example.\n",
    "Need to filter out any point observations , want shapes not points.\n",
    "What could be useful for impedance to connectivity? \n",
    "* anything containing 'rock'- bare_rock etc. cliff. shingle. sand. stone. scree.\n",
    "* water - bay, beach, coastline, spring, water, wetland\n",
    "* green area - containing grass. mud. heath. containing tree. containing shrub. scrub. scub (sic). wood.forest.\n"
   ]
  },
  {
   "cell_type": "code",
   "execution_count": null,
   "metadata": {},
   "outputs": [],
   "source": [
    "# reclassify\n",
    "nat[\"reclassified_natural\"] = nat.natural\n",
    "rock_pat = re.compile(\n",
    "    r\"rock|cliff|shingle|sand|stone|scree|gorge|ridge|landslide|mountain\"\n",
    ")\n",
    "nat.reclassified_natural = [\n",
    "    \"rock\" if bool(rock_pat.search(nat_class)) else nat_class\n",
    "    for nat_class in nat.reclassified_natural\n",
    "]\n",
    "water_pat = re.compile(r\"bay|beach|coast|spring|water|wet|shoal|river|flood|reed\")\n",
    "nat.reclassified_natural = [\n",
    "    \"water\" if bool(water_pat.search(nat_class)) else nat_class\n",
    "    for nat_class in nat.reclassified_natural\n",
    "]\n",
    "green_pat = re.compile(\n",
    "    r\"grass|mud|heath|tree|shrub|scrub|scub|wood|forest|field|earth|meadow|lawn|fell\"\n",
    ")\n",
    "nat.reclassified_natural = [\n",
    "    \"green\" if bool(green_pat.search(nat_class)) else nat_class\n",
    "    for nat_class in nat.reclassified_natural\n",
    "]"
   ]
  },
  {
   "cell_type": "code",
   "execution_count": null,
   "metadata": {},
   "outputs": [],
   "source": [
    "nat.reclassified_natural.value_counts()"
   ]
  },
  {
   "cell_type": "code",
   "execution_count": null,
   "metadata": {},
   "outputs": [],
   "source": [
    "nat.plot(column=\"reclassified_natural\", legend=True, figsize=(10, 6))"
   ]
  },
  {
   "cell_type": "code",
   "execution_count": null,
   "metadata": {},
   "outputs": [],
   "source": [
    "# summary table\n",
    "nat.groupby(\"reclassified_natural\").sum(\"area\")"
   ]
  },
  {
   "cell_type": "code",
   "execution_count": null,
   "metadata": {},
   "outputs": [],
   "source": []
  }
 ],
 "metadata": {
  "language_info": {
   "codemirror_mode": {
    "name": "ipython",
    "version": 3
   },
   "file_extension": ".py",
   "mimetype": "text/x-python",
   "name": "python",
   "nbconvert_exporter": "python",
   "pygments_lexer": "ipython3",
   "version": "3.9.7"
  }
 },
 "nbformat": 4,
 "nbformat_minor": 2
}
